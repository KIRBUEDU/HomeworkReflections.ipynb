{
 "cells": [
  {
   "cell_type": "code",
   "execution_count": null,
   "id": "db67c07c",
   "metadata": {},
   "outputs": [],
   "source": [
    "# Week 5 Reflection Question 1 \n",
    "\n",
    "1. # Draw a diagram for the following negative feedback loop:\n",
    "\n",
    "# Sweating causes body temperature to decrease.  High body temperature causes sweating.\n",
    "\n",
    "# A negative feedback loop means that one thing increases another while the second thing decreases the first.\n",
    "\n",
    "# Remember that we are using directed acyclic graphs where two things cannot directly cause each other.\n",
    "\n"
   ]
  },
  {
   "cell_type": "code",
   "execution_count": null,
   "id": "fabefd8a",
   "metadata": {},
   "outputs": [],
   "source": [
    "# [High body temperature] -> [Sweating] -> [Body temperature decreases] -> [Reduced high body temperature]\n",
    "# High body temperature leads to sweating, and then sweating causes a decrease in body temperature, reduces the original high temperature"
   ]
  },
  {
   "cell_type": "code",
   "execution_count": null,
   "id": "f8bafadb",
   "metadata": {},
   "outputs": [],
   "source": [
    "# Week 5 Reflection Question 2 \n",
    "\n",
    "# 2) Describe an example of a positive feedback loop.  This means that one things increases another while the second things also increases the first.\n",
    "\n",
    "# Artic ice melting \n",
    "# When the planet gets warmer through higher global temperature, the artic sea ice melts. Ice has the ability to reflect the sunlight, but due to the fact that there is less ice\n",
    "# Not much sunglight gets reflected; therefore the ocean absorbs the heat. When ocean absorbs so much heat it leads to warming of the ocean\n",
    "# The increased ocean warming leads to more ice melting \n",
    "# [Warming] -> [Ice melts] -> [Less reflection] -> [Ocean absorbs heat] -> [Ocean gets more warmer] -> [More ice melts]"
   ]
  },
  {
   "cell_type": "code",
   "execution_count": null,
   "id": "af11c4ca",
   "metadata": {},
   "outputs": [],
   "source": [
    "# Week 5 Reflection Question 3\n",
    "# Draw a diagram for the following situation:\n",
    "\n",
    "#Lightning storms frighten away deer and bears, decreasing their population, and cause flowers to grow, increasing their population.\n",
    "# Bears eat deer, decreasing their population.\n",
    "# Deer eat flowers, decreasing their population.\n",
    "\n",
    "# [Lightning] -> [Deers] -> [Flowers]\n",
    "# [Lightning] -> [Bears] -> [Deers]\n",
    "# [Lightning] -> [Flower] \n"
   ]
  },
  {
   "cell_type": "code",
   "execution_count": null,
   "id": "b3fb1ef1",
   "metadata": {},
   "outputs": [
    {
     "data": {
      "text/html": [
       "<div>\n",
       "<style scoped>\n",
       "    .dataframe tbody tr th:only-of-type {\n",
       "        vertical-align: middle;\n",
       "    }\n",
       "\n",
       "    .dataframe tbody tr th {\n",
       "        vertical-align: top;\n",
       "    }\n",
       "\n",
       "    .dataframe thead th {\n",
       "        text-align: right;\n",
       "    }\n",
       "</style>\n",
       "<table border=\"1\" class=\"dataframe\">\n",
       "  <thead>\n",
       "    <tr style=\"text-align: right;\">\n",
       "      <th></th>\n",
       "      <th>Lightning</th>\n",
       "      <th>Bears</th>\n",
       "      <th>Deer</th>\n",
       "      <th>Flowers</th>\n",
       "    </tr>\n",
       "  </thead>\n",
       "  <tbody>\n",
       "    <tr>\n",
       "      <th>0</th>\n",
       "      <td>3.745401</td>\n",
       "      <td>77.872870</td>\n",
       "      <td>100.963227</td>\n",
       "      <td>27.829704</td>\n",
       "    </tr>\n",
       "    <tr>\n",
       "      <th>1</th>\n",
       "      <td>9.507143</td>\n",
       "      <td>53.625553</td>\n",
       "      <td>57.055497</td>\n",
       "      <td>79.787214</td>\n",
       "    </tr>\n",
       "    <tr>\n",
       "      <th>2</th>\n",
       "      <td>7.319939</td>\n",
       "      <td>64.865665</td>\n",
       "      <td>71.885704</td>\n",
       "      <td>59.664798</td>\n",
       "    </tr>\n",
       "    <tr>\n",
       "      <th>3</th>\n",
       "      <td>5.986585</td>\n",
       "      <td>66.495319</td>\n",
       "      <td>77.146079</td>\n",
       "      <td>45.287085</td>\n",
       "    </tr>\n",
       "    <tr>\n",
       "      <th>4</th>\n",
       "      <td>1.560186</td>\n",
       "      <td>101.527941</td>\n",
       "      <td>106.967561</td>\n",
       "      <td>3.439307</td>\n",
       "    </tr>\n",
       "  </tbody>\n",
       "</table>\n",
       "</div>"
      ],
      "text/plain": [
       "   Lightning       Bears        Deer    Flowers\n",
       "0   3.745401   77.872870  100.963227  27.829704\n",
       "1   9.507143   53.625553   57.055497  79.787214\n",
       "2   7.319939   64.865665   71.885704  59.664798\n",
       "3   5.986585   66.495319   77.146079  45.287085\n",
       "4   1.560186  101.527941  106.967561   3.439307"
      ]
     },
     "execution_count": 3,
     "metadata": {},
     "output_type": "execute_result"
    }
   ],
   "source": [
    "# Week 5 Reflection Question 3\n",
    "\n",
    "# Write a dataset that simulates this situation.  (Show the code.) Include noise / randomness in all cases.\n",
    "\n",
    "import pandas as pd\n",
    "import numpy as np\n",
    "\n",
    "np.random.seed(42)\n",
    "n = 200\n",
    "\n",
    "\n",
    "lightning = np.random.uniform(0, 10, n)\n",
    "\n",
    "\n",
    "bears = 100 - 5 * lightning + np.random.normal(0, 5, n)\n",
    "\n",
    "deer = 150 - 8 * lightning - 0.3 * bears + np.random.normal(0, 5, n)\n",
    "\n",
    "\n",
    "flowers = 50 + 6 * lightning - 0.5 * deer + np.random.normal(0, 5, n)\n",
    "\n",
    "\n",
    "bears = np.clip(bears, 0, None)\n",
    "deer = np.clip(deer, 0, None)\n",
    "flowers = np.clip(flowers, 0, None)\n",
    "\n",
    "df = pd.DataFrame({\n",
    "    \"Lightning\": lightning,\n",
    "    \"Bears\": bears,\n",
    "    \"Deer\": deer,\n",
    "    \"Flowers\": flowers\n",
    "})\n",
    "\n",
    "df.head()"
   ]
  },
  {
   "cell_type": "code",
   "execution_count": null,
   "id": "8666da40",
   "metadata": {},
   "outputs": [],
   "source": [
    "# Week 5 Reflection Question 3\n",
    "\n",
    "# Identify a backdoor path with one or more confounders for the relationship between deer and flowers.\n",
    "\n",
    "# Lightning is the confounder it affects both deer and flowers "
   ]
  },
  {
   "cell_type": "code",
   "execution_count": null,
   "id": "87aaa653",
   "metadata": {},
   "outputs": [],
   "source": [
    "# Week 5 Reflection Question 4\n",
    "\n",
    "# 4) Draw a diagram for a situation of your own invention.  The diagram should include at least four nodes, one confounder, and one collider.  \n",
    "# Be sure that it is acyclic (no loops).  Which node would say is most like a treatment (X)?  Which is most like an outcome (Y)?\n",
    "\n",
    "\n",
    "# [Solar activity] -> [Increase Carbon Dioxide Emission] -> [Global temperatue goes up]-> [Artic Ice melts] -> [Increase in ocean temperature]\n",
    "# [Solar activity] -> [Global temperatue goes up] -> [Artic Ice melts] -> [Increase in ocean temperature]\n",
    "# There are 4 nodes: Carbon Dioxide Emission, Global temperatue, Artic Ice, Ocean Temperature\n",
    "# Cofounder is the solar activity \n",
    "# Global temperature is the collider\n",
    "# Reducing carbon dioxide emission should be a treatment, this is the starting point \n",
    "# Ocean temperature is the outcome - end result everything affects this outcome "
   ]
  },
  {
   "cell_type": "code",
   "execution_count": null,
   "id": "3aa4f35a",
   "metadata": {},
   "outputs": [],
   "source": [
    "# Week 6 Reflection Question 1 \n",
    "\n",
    "# What is a potential problem with computing the Marginal Treatment Effect simply by comparing each untreated item to its counterfactual and taking the maximum difference?  \n",
    "# (Hint: think of statistics here.  Consider that only the most extreme item ends up being used to estimate the MTE.  \n",
    "# That's not necessarily a bad thing; the MTE is supposed to come from the untreated item that will produce the maximum effect.  But there is nevertheless a problem.)\n",
    "# Possible answer: We are likely to find the item with the most extreme difference, which may be high simply due to randomness.\n",
    "# (Please explain / justify this answer, or give a different one if you can think of one.)\n",
    "\n",
    "# Answer We are likely to find the item with the most extreme difference, which may be high simply due to randomness. \n",
    "# Each unit’s outcome includes random noise, not just the true treatment effect. When we pick an outlier, it doesn’t represent the average case — it may just be a fluke. \n",
    "# This can lead to an overestimate of the Marginal Treatment Effect (MTE), making the result biased and misleading. \n",
    "# To make a valid estimate, we need to base it on the true treatment effect, not random extremes."
   ]
  },
  {
   "cell_type": "code",
   "execution_count": null,
   "id": "827dcfa0",
   "metadata": {},
   "outputs": [],
   "source": [
    "# Week 6 Reflection Question 2 \n",
    "\n",
    "# Propose a solution that remedies this problem and write some code that implements your solution.  It's very important here that you clearly explain what your solution will do.\n",
    "# Possible answer: maybe we could take the 90th percentile of the treatment effect and use it as a proxy for the Marginal Treatment Effect.\n",
    "# (Either code this answer or choose a different one.)\n",
    "\n"
   ]
  },
  {
   "cell_type": "code",
   "execution_count": 5,
   "id": "b2840ec1",
   "metadata": {},
   "outputs": [
    {
     "name": "stdout",
     "output_type": "stream",
     "text": [
      "Estimated Marginal Treatment Effect (90th percentile): 9.49\n"
     ]
    }
   ],
   "source": [
    "# Week 6 Reflection Question 2  Answer Code \n",
    "\n",
    "\n",
    "import numpy as np\n",
    "\n",
    "np.random.seed(42)\n",
    "\n",
    "\n",
    "n = 1000\n",
    "Y0 = np.random.normal(loc=50, scale=10, size=n)   \n",
    "true_effect = np.random.uniform(0, 10, size=n)    \n",
    "Y1 = Y0 + true_effect + np.random.normal(0, 2, size=n)  \n",
    "\n",
    "\n",
    "individual_effects = Y1 - Y0\n",
    "\n",
    "\n",
    "mte_estimate = np.percentile(individual_effects, 90)\n",
    "\n",
    "print(f\"Estimated Marginal Treatment Effect (90th percentile): {mte_estimate:.2f}\")"
   ]
  }
 ],
 "metadata": {
  "kernelspec": {
   "display_name": "Python 3",
   "language": "python",
   "name": "python3"
  },
  "language_info": {
   "codemirror_mode": {
    "name": "ipython",
    "version": 3
   },
   "file_extension": ".py",
   "mimetype": "text/x-python",
   "name": "python",
   "nbconvert_exporter": "python",
   "pygments_lexer": "ipython3",
   "version": "3.12.1"
  }
 },
 "nbformat": 4,
 "nbformat_minor": 5
}
